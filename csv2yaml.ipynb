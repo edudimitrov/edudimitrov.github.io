{
 "cells": [
  {
   "cell_type": "code",
   "execution_count": 1,
   "id": "a0a82994",
   "metadata": {},
   "outputs": [],
   "source": [
    "import pandas as pd"
   ]
  },
  {
   "cell_type": "code",
   "execution_count": 20,
   "id": "76ff8305",
   "metadata": {},
   "outputs": [],
   "source": [
    "df = pd.read_csv('./papers/result.csv')"
   ]
  },
  {
   "cell_type": "code",
   "execution_count": 21,
   "id": "e9160b80",
   "metadata": {},
   "outputs": [
    {
     "data": {
      "text/html": [
       "<div>\n",
       "<style scoped>\n",
       "    .dataframe tbody tr th:only-of-type {\n",
       "        vertical-align: middle;\n",
       "    }\n",
       "\n",
       "    .dataframe tbody tr th {\n",
       "        vertical-align: top;\n",
       "    }\n",
       "\n",
       "    .dataframe thead th {\n",
       "        text-align: right;\n",
       "    }\n",
       "</style>\n",
       "<table border=\"1\" class=\"dataframe\">\n",
       "  <thead>\n",
       "    <tr style=\"text-align: right;\">\n",
       "      <th></th>\n",
       "      <th>Name</th>\n",
       "      <th>Scholar Link</th>\n",
       "      <th>DOI</th>\n",
       "      <th>Bibtex</th>\n",
       "      <th>PDF Name</th>\n",
       "      <th>Year</th>\n",
       "      <th>Scholar page</th>\n",
       "      <th>Journal</th>\n",
       "      <th>Downloaded</th>\n",
       "      <th>Downloaded from</th>\n",
       "      <th>Authors</th>\n",
       "    </tr>\n",
       "  </thead>\n",
       "  <tbody>\n",
       "    <tr>\n",
       "      <th>0</th>\n",
       "      <td>Regional como opção, regional como prisão: tra...</td>\n",
       "      <td>https://www.teses.usp.br/teses/disponiveis/8/8...</td>\n",
       "      <td>10.11606/t.8.2014.tde-08052014-104648</td>\n",
       "      <td>True</td>\n",
       "      <td>Regional como opção_ regional como prisão_ tra...</td>\n",
       "      <td>2013</td>\n",
       "      <td>https://scholar.google.com/scholar?hl=en&amp;q=Edu...</td>\n",
       "      <td>Universidade de Sao Paulo, Agencia {USP} de Ge...</td>\n",
       "      <td>True</td>\n",
       "      <td>Scholar</td>\n",
       "      <td>Eduardo Dimitrov</td>\n",
       "    </tr>\n",
       "    <tr>\n",
       "      <th>1</th>\n",
       "      <td>Vicente do Rego Monteiro: de expoente modernis...</td>\n",
       "      <td>https://www.scielo.br/j/nec/a/D998ZRTnYqwhNGwX...</td>\n",
       "      <td>10.25091/s0101-3300201500030010</td>\n",
       "      <td>True</td>\n",
       "      <td>NaN</td>\n",
       "      <td>2015</td>\n",
       "      <td>https://scholar.google.com/scholar?hl=en&amp;q=Edu...</td>\n",
       "      <td>Novos Estudos - {CEBRAP}</td>\n",
       "      <td>False</td>\n",
       "      <td>NaN</td>\n",
       "      <td>Eduardo Dimitrov</td>\n",
       "    </tr>\n",
       "  </tbody>\n",
       "</table>\n",
       "</div>"
      ],
      "text/plain": [
       "                                                Name  \\\n",
       "0  Regional como opção, regional como prisão: tra...   \n",
       "1  Vicente do Rego Monteiro: de expoente modernis...   \n",
       "\n",
       "                                        Scholar Link  \\\n",
       "0  https://www.teses.usp.br/teses/disponiveis/8/8...   \n",
       "1  https://www.scielo.br/j/nec/a/D998ZRTnYqwhNGwX...   \n",
       "\n",
       "                                     DOI  Bibtex  \\\n",
       "0  10.11606/t.8.2014.tde-08052014-104648    True   \n",
       "1        10.25091/s0101-3300201500030010    True   \n",
       "\n",
       "                                            PDF Name  Year  \\\n",
       "0  Regional como opção_ regional como prisão_ tra...  2013   \n",
       "1                                                NaN  2015   \n",
       "\n",
       "                                        Scholar page  \\\n",
       "0  https://scholar.google.com/scholar?hl=en&q=Edu...   \n",
       "1  https://scholar.google.com/scholar?hl=en&q=Edu...   \n",
       "\n",
       "                                             Journal  Downloaded  \\\n",
       "0  Universidade de Sao Paulo, Agencia {USP} de Ge...        True   \n",
       "1                           Novos Estudos - {CEBRAP}       False   \n",
       "\n",
       "  Downloaded from           Authors  \n",
       "0         Scholar  Eduardo Dimitrov  \n",
       "1             NaN  Eduardo Dimitrov  "
      ]
     },
     "execution_count": 21,
     "metadata": {},
     "output_type": "execute_result"
    }
   ],
   "source": [
    "df.head(2)"
   ]
  },
  {
   "cell_type": "code",
   "execution_count": 22,
   "id": "a0d0e010",
   "metadata": {},
   "outputs": [],
   "source": [
    "df.rename(columns={'PDF Name': 'filename', 'Name': 'title', 'Authors':'author',\n",
    " 'DOI':'doi-title', 'Year':'year'}, inplace=True)"
   ]
  },
  {
   "cell_type": "code",
   "execution_count": 24,
   "id": "aed2ee81",
   "metadata": {},
   "outputs": [],
   "source": [
    "df = df[[\"title\", \"author\", \"year\", \"doi-title\", \"filename\"]]"
   ]
  },
  {
   "cell_type": "code",
   "execution_count": 5,
   "id": "569fdc9c",
   "metadata": {},
   "outputs": [],
   "source": [
    "# out = list(df.to_dict('records'))"
   ]
  },
  {
   "cell_type": "code",
   "execution_count": 6,
   "id": "8014fb5e",
   "metadata": {},
   "outputs": [],
   "source": [
    "# yaml.dump([{idx:record} for idx, record in enumerate(out)])"
   ]
  },
  {
   "cell_type": "code",
   "execution_count": 25,
   "id": "aa291814",
   "metadata": {},
   "outputs": [],
   "source": [
    "import yaml"
   ]
  },
  {
   "cell_type": "code",
   "execution_count": 27,
   "id": "ec1465f9",
   "metadata": {},
   "outputs": [],
   "source": [
    "with open('publica.yml', 'w') as outfile:\n",
    "    yaml.dump(df.to_dict('records'), outfile,\n",
    "      indent = 4, default_flow_style=False, sort_keys=False)"
   ]
  },
  {
   "cell_type": "code",
   "execution_count": null,
   "id": "f0c17a7d",
   "metadata": {},
   "outputs": [],
   "source": []
  }
 ],
 "metadata": {
  "kernelspec": {
   "display_name": "Python 3.10.6 ('py310')",
   "language": "python",
   "name": "python3"
  },
  "language_info": {
   "codemirror_mode": {
    "name": "ipython",
    "version": 3
   },
   "file_extension": ".py",
   "mimetype": "text/x-python",
   "name": "python",
   "nbconvert_exporter": "python",
   "pygments_lexer": "ipython3",
   "version": "3.10.6"
  },
  "vscode": {
   "interpreter": {
    "hash": "5ffe55bd010e52b801a1658f94bbf8fb3f5cbe386f45f45f32839a8385280d8e"
   }
  }
 },
 "nbformat": 4,
 "nbformat_minor": 5
}
