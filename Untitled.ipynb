{
 "cells": [
  {
   "cell_type": "code",
   "execution_count": 61,
   "id": "a0a82994",
   "metadata": {},
   "outputs": [],
   "source": [
    "import pandas as pd"
   ]
  },
  {
   "cell_type": "code",
   "execution_count": 62,
   "id": "76ff8305",
   "metadata": {},
   "outputs": [],
   "source": [
    "df = pd.read_csv('./papers/result.csv')"
   ]
  },
  {
   "cell_type": "code",
   "execution_count": 63,
   "id": "e9160b80",
   "metadata": {},
   "outputs": [
    {
     "data": {
      "text/html": [
       "<div>\n",
       "<style scoped>\n",
       "    .dataframe tbody tr th:only-of-type {\n",
       "        vertical-align: middle;\n",
       "    }\n",
       "\n",
       "    .dataframe tbody tr th {\n",
       "        vertical-align: top;\n",
       "    }\n",
       "\n",
       "    .dataframe thead th {\n",
       "        text-align: right;\n",
       "    }\n",
       "</style>\n",
       "<table border=\"1\" class=\"dataframe\">\n",
       "  <thead>\n",
       "    <tr style=\"text-align: right;\">\n",
       "      <th></th>\n",
       "      <th>Name</th>\n",
       "      <th>Scholar Link</th>\n",
       "      <th>DOI</th>\n",
       "      <th>Bibtex</th>\n",
       "      <th>PDF Name</th>\n",
       "      <th>Year</th>\n",
       "      <th>Scholar page</th>\n",
       "      <th>Journal</th>\n",
       "      <th>Downloaded</th>\n",
       "      <th>Downloaded from</th>\n",
       "      <th>Authors</th>\n",
       "    </tr>\n",
       "  </thead>\n",
       "  <tbody>\n",
       "    <tr>\n",
       "      <th>0</th>\n",
       "      <td>Regional como opção, regional como prisão: tra...</td>\n",
       "      <td>https://www.teses.usp.br/teses/disponiveis/8/8...</td>\n",
       "      <td>10.11606/t.8.2014.tde-08052014-104648</td>\n",
       "      <td>True</td>\n",
       "      <td>Regional como opção_ regional como prisão_ tra...</td>\n",
       "      <td>2013</td>\n",
       "      <td>https://scholar.google.com/scholar?hl=en&amp;q=Edu...</td>\n",
       "      <td>Universidade de Sao Paulo, Agencia {USP} de Ge...</td>\n",
       "      <td>True</td>\n",
       "      <td>Scholar</td>\n",
       "      <td>Eduardo Dimitrov</td>\n",
       "    </tr>\n",
       "    <tr>\n",
       "      <th>1</th>\n",
       "      <td>Vicente do Rego Monteiro: de expoente modernis...</td>\n",
       "      <td>https://www.scielo.br/j/nec/a/D998ZRTnYqwhNGwX...</td>\n",
       "      <td>10.25091/s0101-3300201500030010</td>\n",
       "      <td>True</td>\n",
       "      <td>NaN</td>\n",
       "      <td>2015</td>\n",
       "      <td>https://scholar.google.com/scholar?hl=en&amp;q=Edu...</td>\n",
       "      <td>Novos Estudos - {CEBRAP}</td>\n",
       "      <td>False</td>\n",
       "      <td>NaN</td>\n",
       "      <td>Eduardo Dimitrov</td>\n",
       "    </tr>\n",
       "    <tr>\n",
       "      <th>2</th>\n",
       "      <td>Vicente do Rego Monteiro: from Modernist Paint...</td>\n",
       "      <td>https://www.scielo.br/j/nec/a/D998ZRTnYqwhNGwX...</td>\n",
       "      <td>NaN</td>\n",
       "      <td>False</td>\n",
       "      <td>NaN</td>\n",
       "      <td>2015</td>\n",
       "      <td>https://scholar.google.com/scholar?hl=en&amp;q=Edu...</td>\n",
       "      <td>NaN</td>\n",
       "      <td>False</td>\n",
       "      <td>NaN</td>\n",
       "      <td>E DIMITROV</td>\n",
       "    </tr>\n",
       "    <tr>\n",
       "      <th>3</th>\n",
       "      <td>Da janela vê-se um Brasil: comentários a respe...</td>\n",
       "      <td>https://ojs.ifch.unicamp.br/index.php/proa/art...</td>\n",
       "      <td>NaN</td>\n",
       "      <td>False</td>\n",
       "      <td>Da janela vê-se um Brasil_ comentários a respe...</td>\n",
       "      <td>2011</td>\n",
       "      <td>https://scholar.google.com/scholar?hl=en&amp;q=Edu...</td>\n",
       "      <td>NaN</td>\n",
       "      <td>True</td>\n",
       "      <td>Scholar</td>\n",
       "      <td>MM Volpe;E Dimitrov</td>\n",
       "    </tr>\n",
       "    <tr>\n",
       "      <th>4</th>\n",
       "      <td>A construção de Paulo Freire como inimigo naci...</td>\n",
       "      <td>https://periodicos.ufba.br/index.php/pculturai...</td>\n",
       "      <td>10.9771/pcr.v15i1.47378</td>\n",
       "      <td>True</td>\n",
       "      <td>NaN</td>\n",
       "      <td>2022</td>\n",
       "      <td>https://scholar.google.com/scholar?hl=en&amp;q=Edu...</td>\n",
       "      <td>Pol{'{i}}ticas Culturais em Revista</td>\n",
       "      <td>False</td>\n",
       "      <td>NaN</td>\n",
       "      <td>Rodolfo Godoi and Eduardo Dimitrov</td>\n",
       "    </tr>\n",
       "  </tbody>\n",
       "</table>\n",
       "</div>"
      ],
      "text/plain": [
       "                                                Name  \\\n",
       "0  Regional como opção, regional como prisão: tra...   \n",
       "1  Vicente do Rego Monteiro: de expoente modernis...   \n",
       "2  Vicente do Rego Monteiro: from Modernist Paint...   \n",
       "3  Da janela vê-se um Brasil: comentários a respe...   \n",
       "4  A construção de Paulo Freire como inimigo naci...   \n",
       "\n",
       "                                        Scholar Link  \\\n",
       "0  https://www.teses.usp.br/teses/disponiveis/8/8...   \n",
       "1  https://www.scielo.br/j/nec/a/D998ZRTnYqwhNGwX...   \n",
       "2  https://www.scielo.br/j/nec/a/D998ZRTnYqwhNGwX...   \n",
       "3  https://ojs.ifch.unicamp.br/index.php/proa/art...   \n",
       "4  https://periodicos.ufba.br/index.php/pculturai...   \n",
       "\n",
       "                                     DOI  Bibtex  \\\n",
       "0  10.11606/t.8.2014.tde-08052014-104648    True   \n",
       "1        10.25091/s0101-3300201500030010    True   \n",
       "2                                    NaN   False   \n",
       "3                                    NaN   False   \n",
       "4                10.9771/pcr.v15i1.47378    True   \n",
       "\n",
       "                                            PDF Name  Year  \\\n",
       "0  Regional como opção_ regional como prisão_ tra...  2013   \n",
       "1                                                NaN  2015   \n",
       "2                                                NaN  2015   \n",
       "3  Da janela vê-se um Brasil_ comentários a respe...  2011   \n",
       "4                                                NaN  2022   \n",
       "\n",
       "                                        Scholar page  \\\n",
       "0  https://scholar.google.com/scholar?hl=en&q=Edu...   \n",
       "1  https://scholar.google.com/scholar?hl=en&q=Edu...   \n",
       "2  https://scholar.google.com/scholar?hl=en&q=Edu...   \n",
       "3  https://scholar.google.com/scholar?hl=en&q=Edu...   \n",
       "4  https://scholar.google.com/scholar?hl=en&q=Edu...   \n",
       "\n",
       "                                             Journal  Downloaded  \\\n",
       "0  Universidade de Sao Paulo, Agencia {USP} de Ge...        True   \n",
       "1                           Novos Estudos - {CEBRAP}       False   \n",
       "2                                                NaN       False   \n",
       "3                                                NaN        True   \n",
       "4                Pol{'{i}}ticas Culturais em Revista       False   \n",
       "\n",
       "  Downloaded from                             Authors  \n",
       "0         Scholar                    Eduardo Dimitrov  \n",
       "1             NaN                    Eduardo Dimitrov  \n",
       "2             NaN                          E DIMITROV  \n",
       "3         Scholar                 MM Volpe;E Dimitrov  \n",
       "4             NaN  Rodolfo Godoi and Eduardo Dimitrov  "
      ]
     },
     "execution_count": 63,
     "metadata": {},
     "output_type": "execute_result"
    }
   ],
   "source": [
    "df.head()"
   ]
  },
  {
   "cell_type": "code",
   "execution_count": 64,
   "id": "8b57bc77",
   "metadata": {},
   "outputs": [
    {
     "name": "stderr",
     "output_type": "stream",
     "text": [
      "/var/folders/gm/fbvqv1z96zzb73768sgn_jp80000gn/T/ipykernel_84233/992522235.py:1: FutureWarning: Using short name for 'orient' is deprecated. Only the options: ('dict', list, 'series', 'split', 'records', 'index') will be used in a future version. Use one of the above to silence this warning.\n",
      "  dfdicat = df.to_dict('record')\n"
     ]
    }
   ],
   "source": [
    "dfdicat = df.to_dict('record')"
   ]
  },
  {
   "cell_type": "code",
   "execution_count": 66,
   "id": "26b1c330",
   "metadata": {},
   "outputs": [
    {
     "data": {
      "text/plain": [
       "'-   Authors: Eduardo Dimitrov\\n    Bibtex: true\\n    DOI: 10.11606/t.8.2014.tde-08052014-104648\\n    Downloaded: true\\n    Downloaded from: Scholar\\n    Journal: Universidade de Sao Paulo, Agencia {USP} de Gestao da Informacao Academica\\n        ({AGUIA})\\n    Name: \"Regional como op\\\\xE7\\\\xE3o, regional como pris\\\\xE3o: trajet\\\\xF3rias art\\\\xED\\\\\\n        sticas no modernismo pernambucano\"\\n    PDF Name: \"Regional como op\\\\xE7\\\\xE3o_ regional como pris\\\\xE3o_ trajet\\\\xF3rias\\\\\\n        \\\\ art\\\\xEDsticas no modernismo pernambucano.pdf\"\\n    Scholar Link: https://www.teses.usp.br/teses/disponiveis/8/8134/tde-08052014-104648/en.php\\n    Scholar page: https://scholar.google.com/scholar?hl=en&q=Eduardo Dimitrov&as_vis=1&as_sdt=1,5&start=%d&as_ylo=2010\\n    Year: 2013\\n    index: 0\\n-   Authors: Eduardo Dimitrov\\n    Bibtex: true\\n    DOI: 10.25091/s0101-3300201500030010\\n    Downloaded: false\\n    Downloaded from: .nan\\n    Journal: Novos Estudos - {CEBRAP}\\n    Name: \\'Vicente do Rego Monteiro: de expoente modernista a integralista esquecido\\'\\n    PDF Name: .nan\\n    Scholar Link: https://www.scielo.br/j/nec/a/D998ZRTnYqwhNGwXrPHHn5d/abstract/?lang=pt\\n    Scholar page: https://scholar.google.com/scholar?hl=en&q=Eduardo Dimitrov&as_vis=1&as_sdt=1,5&start=%d&as_ylo=2010\\n    Year: 2015\\n    index: 1\\n-   Authors: E DIMITROV\\n    Bibtex: false\\n    DOI: .nan\\n    Downloaded: false\\n    Downloaded from: .nan\\n    Journal: .nan\\n    Name: \\'Vicente do Rego Monteiro: from Modernist Painter to Forgotten Integralist\\'\\n    PDF Name: .nan\\n    Scholar Link: https://www.scielo.br/j/nec/a/D998ZRTnYqwhNGwXrPHHn5d/abstract/?lang=en\\n    Scholar page: https://scholar.google.com/scholar?hl=en&q=Eduardo Dimitrov&as_vis=1&as_sdt=1,5&start=%d&as_ylo=2010\\n    Year: 2015\\n    index: 2\\n-   Authors: MM Volpe;E Dimitrov\\n    Bibtex: false\\n    DOI: .nan\\n    Downloaded: true\\n    Downloaded from: Scholar\\n    Journal: .nan\\n    Name: \"Da janela v\\\\xEA-se um Brasil: coment\\\\xE1rios a respeito de cinco exposi\\\\xE7\\\\\\n        \\\\xF5es do Europalia 2011\"\\n    PDF Name: \"Da janela v\\\\xEA-se um Brasil_ coment\\\\xE1rios a respeito de cinco exposi\\\\xE7\\\\\\n        \\\\xF5es do Europalia 2011.pdf\"\\n    Scholar Link: https://ojs.ifch.unicamp.br/index.php/proa/article/download/2623/2031\\n    Scholar page: https://scholar.google.com/scholar?hl=en&q=Eduardo Dimitrov&as_vis=1&as_sdt=1,5&start=%d&as_ylo=2010\\n    Year: 2011\\n    index: 3\\n-   Authors: Rodolfo Godoi and Eduardo Dimitrov\\n    Bibtex: true\\n    DOI: 10.9771/pcr.v15i1.47378\\n    Downloaded: false\\n    Downloaded from: .nan\\n    Journal: Pol{\\'{i}}ticas Culturais em Revista\\n    Name: \"A constru\\\\xE7\\\\xE3o de Paulo Freire como inimigo nacional\"\\n    PDF Name: .nan\\n    Scholar Link: https://periodicos.ufba.br/index.php/pculturais/article/view/47378\\n    Scholar page: https://scholar.google.com/scholar?hl=en&q=Eduardo Dimitrov&as_vis=1&as_sdt=1,5&start=%d&as_ylo=2010\\n    Year: 2022\\n    index: 4\\n-   Authors: E Dimitrov\\n    Bibtex: false\\n    DOI: .nan\\n    Downloaded: false\\n    Downloaded from: .nan\\n    Journal: .nan\\n    Name: \"Nunca pintei um cangaceiro\\\\u2016: negocia\\\\xE7\\\\xF5es em torno da identidade\\\\\\n        \\\\ regional na trajet\\\\xF3ria de Francisco Brennand\"\\n    PDF Name: .nan\\n    Scholar Link: http://www.29rba.abant.org.br/resources/anais/1/1401994099_ARQUIVO_Eduardo_Dimitrov_ABA2014.pdf\\n    Scholar page: https://scholar.google.com/scholar?hl=en&q=Eduardo Dimitrov&as_vis=1&as_sdt=1,5&start=%d&as_ylo=2010\\n    Year: 2014\\n    index: 5\\n-   Authors: Eduardo Dimitrov\\n    Bibtex: true\\n    DOI: 10.1590/s0102-6992-201833030004\\n    Downloaded: false\\n    Downloaded from: .nan\\n    Journal: Sociedade e Estado\\n    Name: \"C\\\\xEDcero Dias eo regionalismo pernambucano\"\\n    PDF Name: .nan\\n    Scholar Link: https://www.scielo.br/j/se/a/S6THMBX9NymwDJxvPXpCTgN/abstract/?lang=pt\\n    Scholar page: https://scholar.google.com/scholar?hl=en&q=Eduardo Dimitrov&as_vis=1&as_sdt=1,5&start=%d&as_ylo=2010\\n    Year: 2018\\n    index: 6\\n-   Authors: M Ayer;E Dimitrov\\n    Bibtex: false\\n    DOI: .nan\\n    Downloaded: true\\n    Downloaded from: Scholar\\n    Journal: .nan\\n    Name: \"A pitu do pintor Monteiro: cacha\\\\xE7a e afetividade em Jo\\\\xE3o Cabral de\\\\\\n        \\\\ Melo Neto\"\\n    PDF Name: \"A pitu do pintor Monteiro_ cacha\\\\xE7a e afetividade em Jo\\\\xE3o Cabral\\\\\\n        \\\\ de Melo Neto.pdf\"\\n    Scholar Link: https://repositorio.unb.br/handle/10482/39706\\n    Scholar page: https://scholar.google.com/scholar?hl=en&q=Eduardo Dimitrov&as_vis=1&as_sdt=1,5&start=%d&as_ylo=2010\\n    Year: 2020\\n    index: 7\\n-   Authors: Eduardo Dimitrov\\n    Bibtex: true\\n    DOI: 10.18764/2236-9473.v16n31p107-129\\n    Downloaded: true\\n    Downloaded from: Scholar\\n    Journal: Revista P{\\'{o}}s Ci{^{e}}ncias Sociais\\n    Name: \"Centro e periferia na produ\\\\xE7\\\\xE3o e avalia\\\\xE7\\\\xE3o da obra de Gilvan\\\\\\n        \\\\ Samico\"\\n    PDF Name: \"Centro e periferia na produ\\\\xE7\\\\xE3o e avalia\\\\xE7\\\\xE3o da obra de Gilvan\\\\\\n        \\\\ Samico.pdf\"\\n    Scholar Link: https://periodicoseletronicos.ufma.br/index.php/rpcsoc/article/view/12855\\n    Scholar page: https://scholar.google.com/scholar?hl=en&q=Eduardo Dimitrov&as_vis=1&as_sdt=1,5&start=%d&as_ylo=2010\\n    Year: 2019\\n    index: 8\\n-   Authors: Maur{\\\\\\'{\\\\i}}cio Ayer and Eduardo Dimitrov\\n    Bibtex: true\\n    DOI: 10.17851/2358-9787.29.2.94-115\\n    Downloaded: true\\n    Downloaded from: Scholar\\n    Journal: \\'O Eixo e a Roda: Revista de Literatura Brasileira\\'\\n    Name: \"A pitu do pintor Monteiro: Cacha\\\\xE7a e afetividade em Jo\\\\xE3o Cabral de\\\\\\n        \\\\ Melo Neto/Painter Monteiro\\'s \\\\u201Cpitu\\\\u201D: Cacha\\\\xE7a and Affectivity\\\\\\n        \\\\ in Jo\\\\xE3o Cabral de Melo Neto\"\\n    PDF Name: \"A pitu do pintor Monteiro_ Cacha\\\\xE7a e afetividade em Jo\\\\xE3o Cabral\\\\\\n        \\\\ de Melo Neto_Painter Monteiro_s _pitu__ Cacha\\\\xE7a and Affectivity in Jo\\\\xE3\\\\\\n        o Cabral de Melo Neto.pdf\"\\n    Scholar Link: http://www.periodicos.letras.ufmg.br/index.php/o_eixo_ea_roda/article/view/15876\\n    Scholar page: https://scholar.google.com/scholar?hl=en&q=Eduardo Dimitrov&as_vis=1&as_sdt=1,5&start=%d&as_ylo=2010\\n    Year: 2020\\n    index: 9\\n-   Authors: Eduardo Dimitrov\\n    Bibtex: true\\n    DOI: 10.1590/2238-38752017v826\\n    Downloaded: false\\n    Downloaded from: .nan\\n    Journal: Sociologia {&}amp$mathsemicolon$ Antropologia\\n    Name: \"LuLa Cardoso ayres: modernista em PernambuCo, foLCL\\\\xF3riCo em s\\\\xE3o PauLo\"\\n    PDF Name: .nan\\n    Scholar Link: https://www.scielo.br/j/sant/a/QtKTZd3s4qQtWhZXhSf59gC/abstract/?lang=pt\\n    Scholar page: https://scholar.google.com/scholar?hl=en&q=Eduardo Dimitrov&as_vis=1&as_sdt=1,5&start=%d&as_ylo=2010\\n    Year: 2018\\n    index: 10\\n-   Authors: Eduardo Dimitrov and {\\\\\\'{I}}ris Morais Ara{\\\\\\'{u}}jo and Luis Felipe Kojima\\n        Hirano and Ma{\\\\\\'{\\\\i}}ra Muhringer Volpe and Natacha Simei Leal and Samantha\\n        Gaspar\\n    Bibtex: true\\n    DOI: 10.4000/pontourbe.1841\\n    Downloaded: false\\n    Downloaded from: .nan\\n    Journal: Ponto Urbe\\n    Name: \"Antropologia em di\\\\xE1logo: a I Semana de Humanidades em Mossor\\\\xF3\"\\n    PDF Name: .nan\\n    Scholar Link: https://journals.openedition.org/pontourbe/1841\\n    Scholar page: https://scholar.google.com/scholar?hl=en&q=Eduardo Dimitrov&as_vis=1&as_sdt=1,5&start=%d&as_ylo=2010\\n    Year: 2011\\n    index: 11\\n-   Authors: .nan\\n    Bibtex: false\\n    DOI: .nan\\n    Downloaded: true\\n    Downloaded from: Scholar\\n    Journal: .nan\\n    Name: \"Museus e cole\\\\xE7\\\\xF5es etnogr\\\\xE1ficas: da hist\\\\xF3ria \\\\xE0 pol\\\\xEDtica.\\\\\\n        \\\\ Entrevista com Mariana Fran\\\\xE7ozo\"\\n    PDF Name: \"Museus e cole\\\\xE7\\\\xF5es etnogr\\\\xE1ficas_ da hist\\\\xF3ria \\\\xE0 pol\\\\xED\\\\\\n        tica. Entrevista com Mariana Fran\\\\xE7ozo.pdf\"\\n    Scholar Link: https://econtents.bc.unicamp.br/inpec/index.php/proa/article/download/16492/11244\\n    Scholar page: https://scholar.google.com/scholar?hl=en&q=Eduardo Dimitrov&as_vis=1&as_sdt=1,5&start=%d&as_ylo=2010\\n    Year: 2014\\n    index: 12\\n-   Authors: .nan\\n    Bibtex: false\\n    DOI: .nan\\n    Downloaded: true\\n    Downloaded from: SciHub\\n    Journal: .nan\\n    Name: Entrevista com Dominique Poulot\\n    PDF Name: Entrevista com Dominique Poulot.pdf\\n    Scholar Link: https://orbi.uliege.be/bitstream/2268/238006/1/2016%20-%20VOX_MUSEI_ARTE_E_PATRIMONIO%20%281%29.pdf\\n    Scholar page: https://scholar.google.com/scholar?hl=en&q=Eduardo Dimitrov&as_vis=1&as_sdt=1,5&start=%d&as_ylo=2010\\n    Year: 2016\\n    index: 13\\n-   Authors: .nan\\n    Bibtex: false\\n    DOI: .nan\\n    Downloaded: true\\n    Downloaded from: SciHub\\n    Journal: .nan\\n    Name: \"\\\\u201CA experi\\\\xEAncia do museu \\\\xE9 a de se deslocar\\\\u201D: entrevista\\\\\\n        \\\\ com Beno\\\\xEEt de L\\'Estoile\"\\n    PDF Name: \"_A experi\\\\xEAncia do museu \\\\xE9 a de se deslocar__ entrevista com Beno\\\\xEE\\\\\\n        t de L_Estoile.pdf\"\\n    Scholar Link: https://econtents.bc.unicamp.br/inpec/index.php/proa/article/download/16462/11214\\n    Scholar page: https://scholar.google.com/scholar?hl=en&q=Eduardo Dimitrov&as_vis=1&as_sdt=1,5&start=%d&as_ylo=2010\\n    Year: 2011\\n    index: 14\\n-   Authors: Eduardo Dimitrov\\n    Bibtex: true\\n    DOI: 10.4000/artelogie.8676\\n    Downloaded: false\\n    Downloaded from: .nan\\n    Journal: Artelogie\\n    Name: Genealogia e identidade familiares no teatro de Ariano Suassuna\\n    PDF Name: .nan\\n    Scholar Link: https://journals.openedition.org/artelogie/8676\\n    Scholar page: https://scholar.google.com/scholar?hl=en&q=Eduardo Dimitrov&as_vis=1&as_sdt=1,5&start=%d&as_ylo=2010\\n    Year: 2011\\n    index: 15\\n-   Authors: LGV Sousa\\n    Bibtex: false\\n    DOI: .nan\\n    Downloaded: true\\n    Downloaded from: Scholar\\n    Journal: .nan\\n    Name: \"O Brasil de Lima Barreto: transforma\\\\xE7\\\\xF5es s\\\\xF3cio culturais no in\\\\xED\\\\\\n        cio do s\\\\xE9culo XX\"\\n    PDF Name: \"O Brasil de Lima Barreto_ transforma\\\\xE7\\\\xF5es s\\\\xF3cio culturais no\\\\\\n        \\\\ in\\\\xEDcio do s\\\\xE9culo XX.pdf\"\\n    Scholar Link: https://bdm.unb.br/handle/10483/30475\\n    Scholar page: https://scholar.google.com/scholar?hl=en&q=Eduardo Dimitrov&as_vis=1&as_sdt=1,5&start=%d&as_ylo=2010\\n    Year: 2019\\n    index: 16\\n-   Authors: \"\\\\xC2M Miranda\"\\n    Bibtex: false\\n    DOI: .nan\\n    Downloaded: true\\n    Downloaded from: SciHub\\n    Journal: .nan\\n    Name: \"O trabalho de cuidados paliativos: uma sociohist\\\\xF3ria a partir de Cicely\\\\\\n        \\\\ Saunders e Elisabeth K\\\\xFCbler-Ross\"\\n    PDF Name: \"O trabalho de cuidados paliativos_ uma sociohist\\\\xF3ria a partir de\\\\\\n        \\\\ Cicely Saunders e Elisabeth K\\\\xFCbler-Ross.pdf\"\\n    Scholar Link: https://repositorio.unb.br/handle/10482/39670\\n    Scholar page: https://scholar.google.com/scholar?hl=en&q=Eduardo Dimitrov&as_vis=1&as_sdt=1,5&start=%d&as_ylo=2010\\n    Year: 2020\\n    index: 17\\n-   Authors: LTGL Almeida\\n    Bibtex: false\\n    DOI: .nan\\n    Downloaded: true\\n    Downloaded from: SciHub\\n    Journal: .nan\\n    Name: \"Vida compartilhada: influencers e seu papel na reestrutura\\\\xE7\\\\xE3o do\\\\\\n        \\\\ capitalismo informacional\"\\n    PDF Name: \"Vida compartilhada_ influencers e seu papel na reestrutura\\\\xE7\\\\xE3\\\\\\n        o do capitalismo informacional.pdf\"\\n    Scholar Link: https://bdm.unb.br/handle/10483/24018\\n    Scholar page: https://scholar.google.com/scholar?hl=en&q=Eduardo Dimitrov&as_vis=1&as_sdt=1,5&start=%d&as_ylo=2010\\n    Year: 2019\\n    index: 18\\n-   Authors: RCRJ Oliveira\\n    Bibtex: false\\n    DOI: .nan\\n    Downloaded: true\\n    Downloaded from: SciHub\\n    Journal: .nan\\n    Name: \"O direito \\\\xE0 cidade para o exerc\\\\xEDcio da sexualidade de mulheres l\\\\xE9\\\\\\n        sbicas: uma quest\\\\xE3o de direitos humanos\"\\n    PDF Name: \"O direito \\\\xE0 cidade para o exerc\\\\xEDcio da sexualidade de mulheres\\\\\\n        \\\\ l\\\\xE9sbicas_ uma quest\\\\xE3o de direitos humanos.pdf\"\\n    Scholar Link: https://repositorio.unb.br/handle/10482/39230\\n    Scholar page: https://scholar.google.com/scholar?hl=en&q=Eduardo Dimitrov&as_vis=1&as_sdt=1,5&start=%d&as_ylo=2010\\n    Year: 2020\\n    index: 19\\n-   Authors: RA Santos Junior\\n    Bibtex: false\\n    DOI: .nan\\n    Downloaded: true\\n    Downloaded from: SciHub\\n    Journal: .nan\\n    Name: A imagem do caipira na obra de Monteiro Lobato\\n    PDF Name: A imagem do caipira na obra de Monteiro Lobato.pdf\\n    Scholar Link: https://repositorio.unb.br/handle/10482/35049\\n    Scholar page: https://scholar.google.com/scholar?hl=en&q=Eduardo Dimitrov&as_vis=1&as_sdt=1,5&start=%d&as_ylo=2010\\n    Year: 2019\\n    index: 20\\n-   Authors: RLC Godoi\\n    Bibtex: false\\n    DOI: .nan\\n    Downloaded: true\\n    Downloaded from: SciHub\\n    Journal: .nan\\n    Name: \"Ney Matogrosso: libera\\\\xE7\\\\xE3o sexual, performance art\\\\xEDstica e disputas\\\\\\n        \\\\ simbo\\\\u0301licas\"\\n    PDF Name: \"Ney Matogrosso_ libera\\\\xE7\\\\xE3o sexual_ performance art\\\\xEDstica e\\\\\\n        \\\\ disputas simbo_licas.pdf\"\\n    Scholar Link: https://repositorio.unb.br/handle/10482/32476\\n    Scholar page: https://scholar.google.com/scholar?hl=en&q=Eduardo Dimitrov&as_vis=1&as_sdt=1,5&start=%d&as_ylo=2010\\n    Year: 2018\\n    index: 21\\n-   Authors: Fl{\\\\\\'{a}}vio Borges Faria\\n    Bibtex: true\\n    DOI: 10.5380/sclplr.v8i2.87016\\n    Downloaded: true\\n    Downloaded from: Scholar\\n    Journal: Sociologias Plurais\\n    Name: \"As afinidades eletivas entre Walter Benjamin e Franz Kafka: investiga\\\\xE7\\\\\\n        \\\\xF5es sobre o messianismo judaico, a tradi\\\\xE7\\\\xE3o doente eo decl\\\\xEDnio\\\\\\n        \\\\ da experi\\\\xEAncia\"\\n    PDF Name: \"As afinidades eletivas entre Walter Benjamin e Franz Kafka_ investiga\\\\xE7\\\\\\n        \\\\xF5es sobre o messianismo judaico_ a tradi\\\\xE7\\\\xE3o doente eo decl\\\\xEDnio\\\\\\n        \\\\ da experi\\\\xEAncia.pdf\"\\n    Scholar Link: https://repositorio.unb.br/handle/10482/41620\\n    Scholar page: https://scholar.google.com/scholar?hl=en&q=Eduardo Dimitrov&as_vis=1&as_sdt=1,5&start=%d&as_ylo=2010\\n    Year: 2022\\n    index: 22\\n-   Authors: D Poulot\\n    Bibtex: false\\n    DOI: .nan\\n    Downloaded: true\\n    Downloaded from: SciHub\\n    Journal: .nan\\n    Name: Entrevista com Dominique Poulot\\n    PDF Name: Entrevista com Dominique Poulot.pdf\\n    Scholar Link: https://comunicata.ufpi.br/index.php/voxmusei/article/view/4953\\n    Scholar page: https://scholar.google.com/scholar?hl=en&q=Eduardo Dimitrov&as_vis=1&as_sdt=1,5&start=%d&as_ylo=2010\\n    Year: 2016\\n    index: 23\\n-   Authors: N Heinich\\n    Bibtex: false\\n    DOI: .nan\\n    Downloaded: true\\n    Downloaded from: SciHub\\n    Journal: .nan\\n    Name: \"O invent\\\\xE1rio: um patrim\\\\xF4nio em vias de desartifica\\\\xE7\\\\xE3o?\"\\n    PDF Name: \"O invent\\\\xE1rio_ um patrim\\\\xF4nio em vias de desartifica\\\\xE7\\\\xE3o_.pdf\"\\n    Scholar Link: https://ojs.ifch.unicamp.br/index.php/proa/article/view/2336\\n    Scholar page: https://scholar.google.com/scholar?hl=en&q=Eduardo Dimitrov&as_vis=1&as_sdt=1,5&start=%d&as_ylo=2010\\n    Year: 2014\\n    index: 24\\n-   Authors: IVS Rocha\\n    Bibtex: false\\n    DOI: .nan\\n    Downloaded: true\\n    Downloaded from: SciHub\\n    Journal: .nan\\n    Name: \"Roberto Piva: o poeta xam\\\\xE3: um devaneio po\\\\xE9tico-sociol\\\\xF3gico por\\\\\\n        \\\\ um disc\\\\xEDpulo da contradi\\\\xE7\\\\xE3o\"\\n    PDF Name: \"Roberto Piva_ o poeta xam\\\\xE3_ um devaneio po\\\\xE9tico-sociol\\\\xF3gico\\\\\\n        \\\\ por um disc\\\\xEDpulo da contradi\\\\xE7\\\\xE3o.pdf\"\\n    Scholar Link: https://bdm.unb.br/handle/10483/24017\\n    Scholar page: https://scholar.google.com/scholar?hl=en&q=Eduardo Dimitrov&as_vis=1&as_sdt=1,5&start=%d&as_ylo=2010\\n    Year: 2018\\n    index: 25\\n'"
      ]
     },
     "execution_count": 66,
     "metadata": {},
     "output_type": "execute_result"
    }
   ],
   "source": [
    "yaml.dump(df.reset_index().to_dict('records'),\n",
    "      indent = 4)"
   ]
  },
  {
   "cell_type": "code",
   "execution_count": 37,
   "id": "b799728a",
   "metadata": {},
   "outputs": [
    {
     "name": "stdout",
     "output_type": "stream",
     "text": [
      "Collecting pyyaml\n",
      "  Using cached PyYAML-6.0-cp310-cp310-macosx_11_0_arm64.whl (173 kB)\n",
      "Installing collected packages: pyyaml\n",
      "Successfully installed pyyaml-6.0\n"
     ]
    }
   ],
   "source": [
    "!pip install pyyaml"
   ]
  },
  {
   "cell_type": "code",
   "execution_count": 38,
   "id": "1e30f9b8",
   "metadata": {},
   "outputs": [],
   "source": [
    "import yaml"
   ]
  },
  {
   "cell_type": "code",
   "execution_count": 39,
   "id": "07f387ed",
   "metadata": {},
   "outputs": [
    {
     "data": {
      "text/plain": [
       "'- Authors: Eduardo Dimitrov\\n  Bibtex: true\\n  DOI: 10.11606/t.8.2014.tde-08052014-104648\\n  Downloaded: true\\n  Downloaded from: Scholar\\n  Journal: Universidade de Sao Paulo, Agencia {USP} de Gestao da Informacao Academica\\n    ({AGUIA})\\n  Name: \"Regional como op\\\\xE7\\\\xE3o, regional como pris\\\\xE3o: trajet\\\\xF3rias art\\\\xED\\\\\\n    sticas no modernismo pernambucano\"\\n  PDF Name: \"Regional como op\\\\xE7\\\\xE3o_ regional como pris\\\\xE3o_ trajet\\\\xF3rias art\\\\xED\\\\\\n    sticas no modernismo pernambucano.pdf\"\\n  Scholar Link: https://www.teses.usp.br/teses/disponiveis/8/8134/tde-08052014-104648/en.php\\n  Scholar page: https://scholar.google.com/scholar?hl=en&q=Eduardo Dimitrov&as_vis=1&as_sdt=1,5&start=%d&as_ylo=2010\\n  Year: 2013\\n- Authors: Eduardo Dimitrov\\n  Bibtex: true\\n  DOI: 10.25091/s0101-3300201500030010\\n  Downloaded: false\\n  Downloaded from: .nan\\n  Journal: Novos Estudos - {CEBRAP}\\n  Name: \\'Vicente do Rego Monteiro: de expoente modernista a integralista esquecido\\'\\n  PDF Name: .nan\\n  Scholar Link: https://www.scielo.br/j/nec/a/D998ZRTnYqwhNGwXrPHHn5d/abstract/?lang=pt\\n  Scholar page: https://scholar.google.com/scholar?hl=en&q=Eduardo Dimitrov&as_vis=1&as_sdt=1,5&start=%d&as_ylo=2010\\n  Year: 2015\\n- Authors: E DIMITROV\\n  Bibtex: false\\n  DOI: .nan\\n  Downloaded: false\\n  Downloaded from: .nan\\n  Journal: .nan\\n  Name: \\'Vicente do Rego Monteiro: from Modernist Painter to Forgotten Integralist\\'\\n  PDF Name: .nan\\n  Scholar Link: https://www.scielo.br/j/nec/a/D998ZRTnYqwhNGwXrPHHn5d/abstract/?lang=en\\n  Scholar page: https://scholar.google.com/scholar?hl=en&q=Eduardo Dimitrov&as_vis=1&as_sdt=1,5&start=%d&as_ylo=2010\\n  Year: 2015\\n- Authors: MM Volpe;E Dimitrov\\n  Bibtex: false\\n  DOI: .nan\\n  Downloaded: true\\n  Downloaded from: Scholar\\n  Journal: .nan\\n  Name: \"Da janela v\\\\xEA-se um Brasil: coment\\\\xE1rios a respeito de cinco exposi\\\\xE7\\\\\\n    \\\\xF5es do Europalia 2011\"\\n  PDF Name: \"Da janela v\\\\xEA-se um Brasil_ coment\\\\xE1rios a respeito de cinco exposi\\\\xE7\\\\\\n    \\\\xF5es do Europalia 2011.pdf\"\\n  Scholar Link: https://ojs.ifch.unicamp.br/index.php/proa/article/download/2623/2031\\n  Scholar page: https://scholar.google.com/scholar?hl=en&q=Eduardo Dimitrov&as_vis=1&as_sdt=1,5&start=%d&as_ylo=2010\\n  Year: 2011\\n- Authors: Rodolfo Godoi and Eduardo Dimitrov\\n  Bibtex: true\\n  DOI: 10.9771/pcr.v15i1.47378\\n  Downloaded: false\\n  Downloaded from: .nan\\n  Journal: Pol{\\'{i}}ticas Culturais em Revista\\n  Name: \"A constru\\\\xE7\\\\xE3o de Paulo Freire como inimigo nacional\"\\n  PDF Name: .nan\\n  Scholar Link: https://periodicos.ufba.br/index.php/pculturais/article/view/47378\\n  Scholar page: https://scholar.google.com/scholar?hl=en&q=Eduardo Dimitrov&as_vis=1&as_sdt=1,5&start=%d&as_ylo=2010\\n  Year: 2022\\n- Authors: E Dimitrov\\n  Bibtex: false\\n  DOI: .nan\\n  Downloaded: false\\n  Downloaded from: .nan\\n  Journal: .nan\\n  Name: \"Nunca pintei um cangaceiro\\\\u2016: negocia\\\\xE7\\\\xF5es em torno da identidade\\\\\\n    \\\\ regional na trajet\\\\xF3ria de Francisco Brennand\"\\n  PDF Name: .nan\\n  Scholar Link: http://www.29rba.abant.org.br/resources/anais/1/1401994099_ARQUIVO_Eduardo_Dimitrov_ABA2014.pdf\\n  Scholar page: https://scholar.google.com/scholar?hl=en&q=Eduardo Dimitrov&as_vis=1&as_sdt=1,5&start=%d&as_ylo=2010\\n  Year: 2014\\n- Authors: Eduardo Dimitrov\\n  Bibtex: true\\n  DOI: 10.1590/s0102-6992-201833030004\\n  Downloaded: false\\n  Downloaded from: .nan\\n  Journal: Sociedade e Estado\\n  Name: \"C\\\\xEDcero Dias eo regionalismo pernambucano\"\\n  PDF Name: .nan\\n  Scholar Link: https://www.scielo.br/j/se/a/S6THMBX9NymwDJxvPXpCTgN/abstract/?lang=pt\\n  Scholar page: https://scholar.google.com/scholar?hl=en&q=Eduardo Dimitrov&as_vis=1&as_sdt=1,5&start=%d&as_ylo=2010\\n  Year: 2018\\n- Authors: M Ayer;E Dimitrov\\n  Bibtex: false\\n  DOI: .nan\\n  Downloaded: true\\n  Downloaded from: Scholar\\n  Journal: .nan\\n  Name: \"A pitu do pintor Monteiro: cacha\\\\xE7a e afetividade em Jo\\\\xE3o Cabral de\\\\\\n    \\\\ Melo Neto\"\\n  PDF Name: \"A pitu do pintor Monteiro_ cacha\\\\xE7a e afetividade em Jo\\\\xE3o Cabral\\\\\\n    \\\\ de Melo Neto.pdf\"\\n  Scholar Link: https://repositorio.unb.br/handle/10482/39706\\n  Scholar page: https://scholar.google.com/scholar?hl=en&q=Eduardo Dimitrov&as_vis=1&as_sdt=1,5&start=%d&as_ylo=2010\\n  Year: 2020\\n- Authors: Eduardo Dimitrov\\n  Bibtex: true\\n  DOI: 10.18764/2236-9473.v16n31p107-129\\n  Downloaded: true\\n  Downloaded from: Scholar\\n  Journal: Revista P{\\'{o}}s Ci{^{e}}ncias Sociais\\n  Name: \"Centro e periferia na produ\\\\xE7\\\\xE3o e avalia\\\\xE7\\\\xE3o da obra de Gilvan\\\\\\n    \\\\ Samico\"\\n  PDF Name: \"Centro e periferia na produ\\\\xE7\\\\xE3o e avalia\\\\xE7\\\\xE3o da obra de Gilvan\\\\\\n    \\\\ Samico.pdf\"\\n  Scholar Link: https://periodicoseletronicos.ufma.br/index.php/rpcsoc/article/view/12855\\n  Scholar page: https://scholar.google.com/scholar?hl=en&q=Eduardo Dimitrov&as_vis=1&as_sdt=1,5&start=%d&as_ylo=2010\\n  Year: 2019\\n- Authors: Maur{\\\\\\'{\\\\i}}cio Ayer and Eduardo Dimitrov\\n  Bibtex: true\\n  DOI: 10.17851/2358-9787.29.2.94-115\\n  Downloaded: true\\n  Downloaded from: Scholar\\n  Journal: \\'O Eixo e a Roda: Revista de Literatura Brasileira\\'\\n  Name: \"A pitu do pintor Monteiro: Cacha\\\\xE7a e afetividade em Jo\\\\xE3o Cabral de\\\\\\n    \\\\ Melo Neto/Painter Monteiro\\'s \\\\u201Cpitu\\\\u201D: Cacha\\\\xE7a and Affectivity in\\\\\\n    \\\\ Jo\\\\xE3o Cabral de Melo Neto\"\\n  PDF Name: \"A pitu do pintor Monteiro_ Cacha\\\\xE7a e afetividade em Jo\\\\xE3o Cabral\\\\\\n    \\\\ de Melo Neto_Painter Monteiro_s _pitu__ Cacha\\\\xE7a and Affectivity in Jo\\\\xE3\\\\\\n    o Cabral de Melo Neto.pdf\"\\n  Scholar Link: http://www.periodicos.letras.ufmg.br/index.php/o_eixo_ea_roda/article/view/15876\\n  Scholar page: https://scholar.google.com/scholar?hl=en&q=Eduardo Dimitrov&as_vis=1&as_sdt=1,5&start=%d&as_ylo=2010\\n  Year: 2020\\n- Authors: Eduardo Dimitrov\\n  Bibtex: true\\n  DOI: 10.1590/2238-38752017v826\\n  Downloaded: false\\n  Downloaded from: .nan\\n  Journal: Sociologia {&}amp$mathsemicolon$ Antropologia\\n  Name: \"LuLa Cardoso ayres: modernista em PernambuCo, foLCL\\\\xF3riCo em s\\\\xE3o PauLo\"\\n  PDF Name: .nan\\n  Scholar Link: https://www.scielo.br/j/sant/a/QtKTZd3s4qQtWhZXhSf59gC/abstract/?lang=pt\\n  Scholar page: https://scholar.google.com/scholar?hl=en&q=Eduardo Dimitrov&as_vis=1&as_sdt=1,5&start=%d&as_ylo=2010\\n  Year: 2018\\n- Authors: Eduardo Dimitrov and {\\\\\\'{I}}ris Morais Ara{\\\\\\'{u}}jo and Luis Felipe Kojima\\n    Hirano and Ma{\\\\\\'{\\\\i}}ra Muhringer Volpe and Natacha Simei Leal and Samantha Gaspar\\n  Bibtex: true\\n  DOI: 10.4000/pontourbe.1841\\n  Downloaded: false\\n  Downloaded from: .nan\\n  Journal: Ponto Urbe\\n  Name: \"Antropologia em di\\\\xE1logo: a I Semana de Humanidades em Mossor\\\\xF3\"\\n  PDF Name: .nan\\n  Scholar Link: https://journals.openedition.org/pontourbe/1841\\n  Scholar page: https://scholar.google.com/scholar?hl=en&q=Eduardo Dimitrov&as_vis=1&as_sdt=1,5&start=%d&as_ylo=2010\\n  Year: 2011\\n- Authors: .nan\\n  Bibtex: false\\n  DOI: .nan\\n  Downloaded: true\\n  Downloaded from: Scholar\\n  Journal: .nan\\n  Name: \"Museus e cole\\\\xE7\\\\xF5es etnogr\\\\xE1ficas: da hist\\\\xF3ria \\\\xE0 pol\\\\xEDtica.\\\\\\n    \\\\ Entrevista com Mariana Fran\\\\xE7ozo\"\\n  PDF Name: \"Museus e cole\\\\xE7\\\\xF5es etnogr\\\\xE1ficas_ da hist\\\\xF3ria \\\\xE0 pol\\\\xED\\\\\\n    tica. Entrevista com Mariana Fran\\\\xE7ozo.pdf\"\\n  Scholar Link: https://econtents.bc.unicamp.br/inpec/index.php/proa/article/download/16492/11244\\n  Scholar page: https://scholar.google.com/scholar?hl=en&q=Eduardo Dimitrov&as_vis=1&as_sdt=1,5&start=%d&as_ylo=2010\\n  Year: 2014\\n- Authors: .nan\\n  Bibtex: false\\n  DOI: .nan\\n  Downloaded: true\\n  Downloaded from: SciHub\\n  Journal: .nan\\n  Name: Entrevista com Dominique Poulot\\n  PDF Name: Entrevista com Dominique Poulot.pdf\\n  Scholar Link: https://orbi.uliege.be/bitstream/2268/238006/1/2016%20-%20VOX_MUSEI_ARTE_E_PATRIMONIO%20%281%29.pdf\\n  Scholar page: https://scholar.google.com/scholar?hl=en&q=Eduardo Dimitrov&as_vis=1&as_sdt=1,5&start=%d&as_ylo=2010\\n  Year: 2016\\n- Authors: .nan\\n  Bibtex: false\\n  DOI: .nan\\n  Downloaded: true\\n  Downloaded from: SciHub\\n  Journal: .nan\\n  Name: \"\\\\u201CA experi\\\\xEAncia do museu \\\\xE9 a de se deslocar\\\\u201D: entrevista com\\\\\\n    \\\\ Beno\\\\xEEt de L\\'Estoile\"\\n  PDF Name: \"_A experi\\\\xEAncia do museu \\\\xE9 a de se deslocar__ entrevista com Beno\\\\xEE\\\\\\n    t de L_Estoile.pdf\"\\n  Scholar Link: https://econtents.bc.unicamp.br/inpec/index.php/proa/article/download/16462/11214\\n  Scholar page: https://scholar.google.com/scholar?hl=en&q=Eduardo Dimitrov&as_vis=1&as_sdt=1,5&start=%d&as_ylo=2010\\n  Year: 2011\\n- Authors: Eduardo Dimitrov\\n  Bibtex: true\\n  DOI: 10.4000/artelogie.8676\\n  Downloaded: false\\n  Downloaded from: .nan\\n  Journal: Artelogie\\n  Name: Genealogia e identidade familiares no teatro de Ariano Suassuna\\n  PDF Name: .nan\\n  Scholar Link: https://journals.openedition.org/artelogie/8676\\n  Scholar page: https://scholar.google.com/scholar?hl=en&q=Eduardo Dimitrov&as_vis=1&as_sdt=1,5&start=%d&as_ylo=2010\\n  Year: 2011\\n- Authors: LGV Sousa\\n  Bibtex: false\\n  DOI: .nan\\n  Downloaded: true\\n  Downloaded from: Scholar\\n  Journal: .nan\\n  Name: \"O Brasil de Lima Barreto: transforma\\\\xE7\\\\xF5es s\\\\xF3cio culturais no in\\\\xED\\\\\\n    cio do s\\\\xE9culo XX\"\\n  PDF Name: \"O Brasil de Lima Barreto_ transforma\\\\xE7\\\\xF5es s\\\\xF3cio culturais no\\\\\\n    \\\\ in\\\\xEDcio do s\\\\xE9culo XX.pdf\"\\n  Scholar Link: https://bdm.unb.br/handle/10483/30475\\n  Scholar page: https://scholar.google.com/scholar?hl=en&q=Eduardo Dimitrov&as_vis=1&as_sdt=1,5&start=%d&as_ylo=2010\\n  Year: 2019\\n- Authors: \"\\\\xC2M Miranda\"\\n  Bibtex: false\\n  DOI: .nan\\n  Downloaded: true\\n  Downloaded from: SciHub\\n  Journal: .nan\\n  Name: \"O trabalho de cuidados paliativos: uma sociohist\\\\xF3ria a partir de Cicely\\\\\\n    \\\\ Saunders e Elisabeth K\\\\xFCbler-Ross\"\\n  PDF Name: \"O trabalho de cuidados paliativos_ uma sociohist\\\\xF3ria a partir de Cicely\\\\\\n    \\\\ Saunders e Elisabeth K\\\\xFCbler-Ross.pdf\"\\n  Scholar Link: https://repositorio.unb.br/handle/10482/39670\\n  Scholar page: https://scholar.google.com/scholar?hl=en&q=Eduardo Dimitrov&as_vis=1&as_sdt=1,5&start=%d&as_ylo=2010\\n  Year: 2020\\n- Authors: LTGL Almeida\\n  Bibtex: false\\n  DOI: .nan\\n  Downloaded: true\\n  Downloaded from: SciHub\\n  Journal: .nan\\n  Name: \"Vida compartilhada: influencers e seu papel na reestrutura\\\\xE7\\\\xE3o do capitalismo\\\\\\n    \\\\ informacional\"\\n  PDF Name: \"Vida compartilhada_ influencers e seu papel na reestrutura\\\\xE7\\\\xE3o do\\\\\\n    \\\\ capitalismo informacional.pdf\"\\n  Scholar Link: https://bdm.unb.br/handle/10483/24018\\n  Scholar page: https://scholar.google.com/scholar?hl=en&q=Eduardo Dimitrov&as_vis=1&as_sdt=1,5&start=%d&as_ylo=2010\\n  Year: 2019\\n- Authors: RCRJ Oliveira\\n  Bibtex: false\\n  DOI: .nan\\n  Downloaded: true\\n  Downloaded from: SciHub\\n  Journal: .nan\\n  Name: \"O direito \\\\xE0 cidade para o exerc\\\\xEDcio da sexualidade de mulheres l\\\\xE9\\\\\\n    sbicas: uma quest\\\\xE3o de direitos humanos\"\\n  PDF Name: \"O direito \\\\xE0 cidade para o exerc\\\\xEDcio da sexualidade de mulheres\\\\\\n    \\\\ l\\\\xE9sbicas_ uma quest\\\\xE3o de direitos humanos.pdf\"\\n  Scholar Link: https://repositorio.unb.br/handle/10482/39230\\n  Scholar page: https://scholar.google.com/scholar?hl=en&q=Eduardo Dimitrov&as_vis=1&as_sdt=1,5&start=%d&as_ylo=2010\\n  Year: 2020\\n- Authors: RA Santos Junior\\n  Bibtex: false\\n  DOI: .nan\\n  Downloaded: true\\n  Downloaded from: SciHub\\n  Journal: .nan\\n  Name: A imagem do caipira na obra de Monteiro Lobato\\n  PDF Name: A imagem do caipira na obra de Monteiro Lobato.pdf\\n  Scholar Link: https://repositorio.unb.br/handle/10482/35049\\n  Scholar page: https://scholar.google.com/scholar?hl=en&q=Eduardo Dimitrov&as_vis=1&as_sdt=1,5&start=%d&as_ylo=2010\\n  Year: 2019\\n- Authors: RLC Godoi\\n  Bibtex: false\\n  DOI: .nan\\n  Downloaded: true\\n  Downloaded from: SciHub\\n  Journal: .nan\\n  Name: \"Ney Matogrosso: libera\\\\xE7\\\\xE3o sexual, performance art\\\\xEDstica e disputas\\\\\\n    \\\\ simbo\\\\u0301licas\"\\n  PDF Name: \"Ney Matogrosso_ libera\\\\xE7\\\\xE3o sexual_ performance art\\\\xEDstica e disputas\\\\\\n    \\\\ simbo_licas.pdf\"\\n  Scholar Link: https://repositorio.unb.br/handle/10482/32476\\n  Scholar page: https://scholar.google.com/scholar?hl=en&q=Eduardo Dimitrov&as_vis=1&as_sdt=1,5&start=%d&as_ylo=2010\\n  Year: 2018\\n- Authors: Fl{\\\\\\'{a}}vio Borges Faria\\n  Bibtex: true\\n  DOI: 10.5380/sclplr.v8i2.87016\\n  Downloaded: true\\n  Downloaded from: Scholar\\n  Journal: Sociologias Plurais\\n  Name: \"As afinidades eletivas entre Walter Benjamin e Franz Kafka: investiga\\\\xE7\\\\\\n    \\\\xF5es sobre o messianismo judaico, a tradi\\\\xE7\\\\xE3o doente eo decl\\\\xEDnio da\\\\\\n    \\\\ experi\\\\xEAncia\"\\n  PDF Name: \"As afinidades eletivas entre Walter Benjamin e Franz Kafka_ investiga\\\\xE7\\\\\\n    \\\\xF5es sobre o messianismo judaico_ a tradi\\\\xE7\\\\xE3o doente eo decl\\\\xEDnio da\\\\\\n    \\\\ experi\\\\xEAncia.pdf\"\\n  Scholar Link: https://repositorio.unb.br/handle/10482/41620\\n  Scholar page: https://scholar.google.com/scholar?hl=en&q=Eduardo Dimitrov&as_vis=1&as_sdt=1,5&start=%d&as_ylo=2010\\n  Year: 2022\\n- Authors: D Poulot\\n  Bibtex: false\\n  DOI: .nan\\n  Downloaded: true\\n  Downloaded from: SciHub\\n  Journal: .nan\\n  Name: Entrevista com Dominique Poulot\\n  PDF Name: Entrevista com Dominique Poulot.pdf\\n  Scholar Link: https://comunicata.ufpi.br/index.php/voxmusei/article/view/4953\\n  Scholar page: https://scholar.google.com/scholar?hl=en&q=Eduardo Dimitrov&as_vis=1&as_sdt=1,5&start=%d&as_ylo=2010\\n  Year: 2016\\n- Authors: N Heinich\\n  Bibtex: false\\n  DOI: .nan\\n  Downloaded: true\\n  Downloaded from: SciHub\\n  Journal: .nan\\n  Name: \"O invent\\\\xE1rio: um patrim\\\\xF4nio em vias de desartifica\\\\xE7\\\\xE3o?\"\\n  PDF Name: \"O invent\\\\xE1rio_ um patrim\\\\xF4nio em vias de desartifica\\\\xE7\\\\xE3o_.pdf\"\\n  Scholar Link: https://ojs.ifch.unicamp.br/index.php/proa/article/view/2336\\n  Scholar page: https://scholar.google.com/scholar?hl=en&q=Eduardo Dimitrov&as_vis=1&as_sdt=1,5&start=%d&as_ylo=2010\\n  Year: 2014\\n- Authors: IVS Rocha\\n  Bibtex: false\\n  DOI: .nan\\n  Downloaded: true\\n  Downloaded from: SciHub\\n  Journal: .nan\\n  Name: \"Roberto Piva: o poeta xam\\\\xE3: um devaneio po\\\\xE9tico-sociol\\\\xF3gico por\\\\\\n    \\\\ um disc\\\\xEDpulo da contradi\\\\xE7\\\\xE3o\"\\n  PDF Name: \"Roberto Piva_ o poeta xam\\\\xE3_ um devaneio po\\\\xE9tico-sociol\\\\xF3gico\\\\\\n    \\\\ por um disc\\\\xEDpulo da contradi\\\\xE7\\\\xE3o.pdf\"\\n  Scholar Link: https://bdm.unb.br/handle/10483/24017\\n  Scholar page: https://scholar.google.com/scholar?hl=en&q=Eduardo Dimitrov&as_vis=1&as_sdt=1,5&start=%d&as_ylo=2010\\n  Year: 2018\\n'"
      ]
     },
     "execution_count": 39,
     "metadata": {},
     "output_type": "execute_result"
    }
   ],
   "source": [
    "yaml.dump(dfdict)"
   ]
  },
  {
   "cell_type": "code",
   "execution_count": null,
   "id": "27313dcd",
   "metadata": {},
   "outputs": [],
   "source": []
  }
 ],
 "metadata": {
  "kernelspec": {
   "display_name": "Python 3.10.6 ('py310')",
   "language": "python",
   "name": "python3"
  },
  "language_info": {
   "codemirror_mode": {
    "name": "ipython",
    "version": 3
   },
   "file_extension": ".py",
   "mimetype": "text/x-python",
   "name": "python",
   "nbconvert_exporter": "python",
   "pygments_lexer": "ipython3",
   "version": "3.10.6"
  },
  "vscode": {
   "interpreter": {
    "hash": "5ffe55bd010e52b801a1658f94bbf8fb3f5cbe386f45f45f32839a8385280d8e"
   }
  }
 },
 "nbformat": 4,
 "nbformat_minor": 5
}
